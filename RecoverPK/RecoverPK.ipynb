{
 "cells": [
  {
   "cell_type": "code",
   "execution_count": 89,
   "metadata": {},
   "outputs": [],
   "source": [
    "from eth_keys import keys\n",
    "from eth_keys import KeyAPI\n",
    "from eth_account.messages import encode_defunct\n",
    "from eth_account import Account\n",
    "import os"
   ]
  },
  {
   "cell_type": "markdown",
   "metadata": {},
   "source": [
    "Set Private Key"
   ]
  },
  {
   "cell_type": "code",
   "execution_count": 102,
   "metadata": {},
   "outputs": [],
   "source": [
    "privateKey = os.urandom(32)\n",
    "pk = keys.PrivateKey(privateKey)"
   ]
  },
  {
   "cell_type": "code",
   "execution_count": 103,
   "metadata": {},
   "outputs": [
    {
     "name": "stdout",
     "output_type": "stream",
     "text": [
      "#### KEY PAIR GENERATION ####\n",
      "Private Key \t\t: 0x3a60fba792a6f2a6e34b79014f95d2abc606ebdd17227323240deaa37f80ba94\n",
      "Public Key Address \t: 0x2407b7741228d61706f404964e323030c4fbfaa1\n"
     ]
    }
   ],
   "source": [
    "print(\"#### KEY PAIR GENERATION ####\")\n",
    "print(\"Private Key \\t\\t: {}\".format(hex(int.from_bytes(privateKey, \"big\"))))\n",
    "print(\"Public Key Address \\t: {}\".format(pk.public_key.to_address()))"
   ]
  },
  {
   "cell_type": "markdown",
   "metadata": {},
   "source": [
    "Set Message"
   ]
  },
  {
   "cell_type": "code",
   "execution_count": 104,
   "metadata": {},
   "outputs": [],
   "source": [
    "pesan = 'Percobaan'"
   ]
  },
  {
   "cell_type": "markdown",
   "metadata": {},
   "source": [
    "Add additional bytes according EIP-191 (https://eips.ethereum.org/EIPS/eip-191)"
   ]
  },
  {
   "cell_type": "code",
   "execution_count": 105,
   "metadata": {},
   "outputs": [],
   "source": [
    "pesan_with_RLP = \"\\x19Ethereum Signed Message:\\n\" + str(len(pesan)) + pesan"
   ]
  },
  {
   "cell_type": "code",
   "execution_count": 106,
   "metadata": {},
   "outputs": [
    {
     "name": "stdout",
     "output_type": "stream",
     "text": [
      "\n",
      "#### MESSAGE ####\n",
      "Plain Message \t: Percobaan\n"
     ]
    }
   ],
   "source": [
    "print(\"\\n#### MESSAGE ####\")\n",
    "print(\"Plain Message \\t: {}\".format(pesan))"
   ]
  },
  {
   "cell_type": "markdown",
   "metadata": {},
   "source": [
    "# Recover PK using eth_keys"
   ]
  },
  {
   "cell_type": "code",
   "execution_count": 107,
   "metadata": {},
   "outputs": [],
   "source": [
    "signature = pk.sign_msg(bytes(pesan_with_RLP, 'utf-8'))"
   ]
  },
  {
   "cell_type": "code",
   "execution_count": 108,
   "metadata": {},
   "outputs": [
    {
     "name": "stdout",
     "output_type": "stream",
     "text": [
      "\n",
      "#### GENERATE SIGNATURE ####\n",
      "r \t: 0x20ff800182d7dd1abe7b5da60a0e827eb1c8aacad5ca63ae52ff2390930c39e2\n",
      "s \t: 0x791dffafb7c1069ac07bf6b21a82092d2454b841b06298a409d13fc00f4f611f\n",
      "v \t: 0x0\n"
     ]
    }
   ],
   "source": [
    "print(\"\\n#### GENERATE SIGNATURE ####\")\n",
    "print(\"r \\t: {}\".format(hex(signature.r)))\n",
    "print(\"s \\t: {}\".format(hex(signature.s)))\n",
    "print(\"v \\t: {}\".format(hex(signature.v)))"
   ]
  },
  {
   "cell_type": "markdown",
   "metadata": {},
   "source": [
    "Check if recovered PK is correct"
   ]
  },
  {
   "cell_type": "code",
   "execution_count": 109,
   "metadata": {},
   "outputs": [],
   "source": [
    "recoveredPK = signature.recover_public_key_from_msg(bytes(pesan_with_RLP, 'utf-8'))"
   ]
  },
  {
   "cell_type": "code",
   "execution_count": 110,
   "metadata": {},
   "outputs": [
    {
     "name": "stdout",
     "output_type": "stream",
     "text": [
      "\n",
      "#### RECOVER PK using eth_keys API ####\n",
      "Recovered Public Key Address \t: 0x2407b7741228d61706f404964e323030c4fbfaa1\n",
      "MATCHED\n"
     ]
    }
   ],
   "source": [
    "print(\"\\n#### RECOVER PK using eth_keys API ####\")\n",
    "print(\"Recovered Public Key Address \\t: {}\".format(recoveredPK.to_address()))\n",
    "if (recoveredPK.to_address().lower() == pk.public_key.to_address()) :\n",
    "    print(\"MATCHED\")\n",
    "else :\n",
    "    print(\"NOT MATCHED\")\n"
   ]
  },
  {
   "cell_type": "markdown",
   "metadata": {},
   "source": [
    "# Recover PK using KeyAPI"
   ]
  },
  {
   "cell_type": "markdown",
   "metadata": {},
   "source": [
    "Use previous generated signature"
   ]
  },
  {
   "cell_type": "code",
   "execution_count": 111,
   "metadata": {},
   "outputs": [],
   "source": [
    "signature = KeyAPI.Signature(bytes.fromhex(signature.to_hex()[2:]))"
   ]
  },
  {
   "cell_type": "markdown",
   "metadata": {},
   "source": [
    "Check if recovered PK is correct"
   ]
  },
  {
   "cell_type": "code",
   "execution_count": 112,
   "metadata": {},
   "outputs": [],
   "source": [
    "recoveredPK = KeyAPI.PublicKey.recover_from_msg(bytes(pesan_with_RLP, 'utf-8'),signature)"
   ]
  },
  {
   "cell_type": "code",
   "execution_count": 113,
   "metadata": {},
   "outputs": [
    {
     "name": "stdout",
     "output_type": "stream",
     "text": [
      "\n",
      "#### RECOVER PK using KeyAPI API ####\n",
      "Recovered Public Key Address \t: 0x2407b7741228d61706f404964e323030c4fbfaa1\n",
      "MATCHED\n"
     ]
    }
   ],
   "source": [
    "print(\"\\n#### RECOVER PK using KeyAPI API ####\")\n",
    "print(\"Recovered Public Key Address \\t: {}\".format(recoveredPK.to_address()))\n",
    "if (recoveredPK.to_address().lower() == pk.public_key.to_address()) :\n",
    "    print(\"MATCHED\")\n",
    "else :\n",
    "    print(\"NOT MATCHED\")"
   ]
  },
  {
   "cell_type": "markdown",
   "metadata": {},
   "source": [
    "# Recover PK using eth-account"
   ]
  },
  {
   "cell_type": "code",
   "execution_count": 114,
   "metadata": {},
   "outputs": [],
   "source": [
    "message = encode_defunct(text=pesan)"
   ]
  },
  {
   "cell_type": "code",
   "execution_count": 115,
   "metadata": {},
   "outputs": [],
   "source": [
    "vrs = (hex(signature.v + 27),hex(signature.r), hex(signature.s))"
   ]
  },
  {
   "cell_type": "code",
   "execution_count": 116,
   "metadata": {},
   "outputs": [],
   "source": [
    "recoveredPK = Account.recover_message(message, vrs=vrs)"
   ]
  },
  {
   "cell_type": "code",
   "execution_count": 117,
   "metadata": {},
   "outputs": [
    {
     "name": "stdout",
     "output_type": "stream",
     "text": [
      "\n",
      "#### RECOVER PK using eth-account API ####\n",
      "Recovered Public Key Address \t: 0x2407B7741228d61706f404964E323030C4fBfaA1\n",
      "MATCHED\n"
     ]
    }
   ],
   "source": [
    "print(\"\\n#### RECOVER PK using eth-account API ####\")\n",
    "print(\"Recovered Public Key Address \\t: {}\".format(recoveredPK))\n",
    "if (recoveredPK.lower() == pk.public_key.to_address()) :\n",
    "    print(\"MATCHED\")\n",
    "else :\n",
    "    print(\"NOT MATCHED\")"
   ]
  },
  {
   "cell_type": "code",
   "execution_count": null,
   "metadata": {},
   "outputs": [],
   "source": []
  }
 ],
 "metadata": {
  "kernelspec": {
   "display_name": "Python 3.8.0 ('eth')",
   "language": "python",
   "name": "python3"
  },
  "language_info": {
   "codemirror_mode": {
    "name": "ipython",
    "version": 3
   },
   "file_extension": ".py",
   "mimetype": "text/x-python",
   "name": "python",
   "nbconvert_exporter": "python",
   "pygments_lexer": "ipython3",
   "version": "3.8.0"
  },
  "orig_nbformat": 4,
  "vscode": {
   "interpreter": {
    "hash": "c25468a2a14060a295b6124b3f8d9ca2decd39d22442ab1e920d17b2eeca6db7"
   }
  }
 },
 "nbformat": 4,
 "nbformat_minor": 2
}
